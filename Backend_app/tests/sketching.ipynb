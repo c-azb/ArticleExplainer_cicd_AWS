{
 "cells": [
  {
   "cell_type": "code",
   "execution_count": null,
   "id": "b84912f1",
   "metadata": {},
   "outputs": [],
   "source": []
  },
  {
   "cell_type": "code",
   "execution_count": 1,
   "id": "3bd7fb75",
   "metadata": {},
   "outputs": [],
   "source": [
    "from langchain_community.document_loaders import ArxivLoader\n",
    "from langchain.text_splitter import RecursiveCharacterTextSplitter"
   ]
  },
  {
   "cell_type": "code",
   "execution_count": 2,
   "id": "d4f57475",
   "metadata": {},
   "outputs": [],
   "source": [
    "loader = ArxivLoader(query='1706.03762', load_max_docs=1,top_k_results=1)\n",
    "docs = loader.load()\n",
    "text_splitter = RecursiveCharacterTextSplitter(separators=['.\\n','\\n\\n'],chunk_size=5000,chunk_overlap=500)\n",
    "splitted_docs = text_splitter.split_documents(docs)"
   ]
  },
  {
   "cell_type": "code",
   "execution_count": 11,
   "id": "a89936e1",
   "metadata": {},
   "outputs": [
    {
     "data": {
      "text/plain": [
       "Document(metadata={'Published': '2023-08-02', 'Title': 'Attention Is All You Need', 'Authors': 'Ashish Vaswani, Noam Shazeer, Niki Parmar, Jakob Uszkoreit, Llion Jones, Aidan N. Gomez, Lukasz Kaiser, Illia Polosukhin', 'Summary': 'The dominant sequence transduction models are based on complex recurrent or\\nconvolutional neural networks in an encoder-decoder configuration. The best\\nperforming models also connect the encoder and decoder through an attention\\nmechanism. We propose a new simple network architecture, the Transformer, based\\nsolely on attention mechanisms, dispensing with recurrence and convolutions\\nentirely. Experiments on two machine translation tasks show these models to be\\nsuperior in quality while being more parallelizable and requiring significantly\\nless time to train. Our model achieves 28.4 BLEU on the WMT 2014\\nEnglish-to-German translation task, improving over the existing best results,\\nincluding ensembles by over 2 BLEU. On the WMT 2014 English-to-French\\ntranslation task, our model establishes a new single-model state-of-the-art\\nBLEU score of 41.8 after training for 3.5 days on eight GPUs, a small fraction\\nof the training costs of the best models from the literature. We show that the\\nTransformer generalizes well to other tasks by applying it successfully to\\nEnglish constituency parsing both with large and limited training data.'}, page_content='Provided proper attribution is provided, Google hereby grants permission to\\nreproduce the tables and figures in this paper solely for use in journalistic or\\nscholarly works.\\nAttention Is All You Need\\nAshish Vaswani∗\\nGoogle Brain\\navaswani@google.com\\nNoam Shazeer∗\\nGoogle Brain\\nnoam@google.com\\nNiki Parmar∗\\nGoogle Research\\nnikip@google.com\\nJakob Uszkoreit∗\\nGoogle Research\\nusz@google.com\\nLlion Jones∗\\nGoogle Research\\nllion@google.com\\nAidan N. Gomez∗†\\nUniversity of Toronto\\naidan@cs.toronto.edu\\nŁukasz Kaiser∗\\nGoogle Brain\\nlukaszkaiser@google.com\\nIllia Polosukhin∗‡\\nillia.polosukhin@gmail.com\\nAbstract\\nThe dominant sequence transduction models are based on complex recurrent or\\nconvolutional neural networks that include an encoder and a decoder. The best\\nperforming models also connect the encoder and decoder through an attention\\nmechanism. We propose a new simple network architecture, the Transformer,\\nbased solely on attention mechanisms, dispensing with recurrence and convolutions\\nentirely. Experiments on two machine translation tasks show these models to\\nbe superior in quality while being more parallelizable and requiring significantly\\nless time to train. Our model achieves 28.4 BLEU on the WMT 2014 English-\\nto-German translation task, improving over the existing best results, including\\nensembles, by over 2 BLEU. On the WMT 2014 English-to-French translation task,\\nour model establishes a new single-model state-of-the-art BLEU score of 41.8 after\\ntraining for 3.5 days on eight GPUs, a small fraction of the training costs of the\\nbest models from the literature. We show that the Transformer generalizes well to\\nother tasks by applying it successfully to English constituency parsing both with\\nlarge and limited training data.\\n∗Equal contribution. Listing order is random. Jakob proposed replacing RNNs with self-attention and started\\nthe effort to evaluate this idea. Ashish, with Illia, designed and implemented the first Transformer models and\\nhas been crucially involved in every aspect of this work. Noam proposed scaled dot-product attention, multi-head\\nattention and the parameter-free position representation and became the other person involved in nearly every\\ndetail. Niki designed, implemented, tuned and evaluated countless model variants in our original codebase and\\ntensor2tensor. Llion also experimented with novel model variants, was responsible for our initial codebase, and\\nefficient inference and visualizations. Lukasz and Aidan spent countless long days designing various parts of and\\nimplementing tensor2tensor, replacing our earlier codebase, greatly improving results and massively accelerating\\nour research.\\n†Work performed while at Google Brain.\\n‡Work performed while at Google Research.\\n31st Conference on Neural Information Processing Systems (NIPS 2017), Long Beach, CA, USA.\\narXiv:1706.03762v7  [cs.CL]  2 Aug 2023\\n1\\nIntroduction\\nRecurrent neural networks, long short-term memory [13] and gated recurrent [7] neural networks\\nin particular, have been firmly established as state of the art approaches in sequence modeling and\\ntransduction problems such as language modeling and machine translation [35, 2, 5]. Numerous\\nefforts have since continued to push the boundaries of recurrent language models and encoder-decoder\\narchitectures [38, 24, 15].\\nRecurrent models typically factor computation along the symbol positions of the input and output\\nsequences. Aligning the positions to steps in computation time, they generate a sequence of hidden\\nstates ht, as a function of the previous hidden state ht−1 and the input for position t. This inherently\\nsequential nature precludes parallelization within training examples, which becomes critical at longer\\nsequence lengths, as memory constraints limit batching across examples. Recent work has achieved\\nsignificant improvements in computational efficiency through factorization tricks [21] and conditional\\ncomputation [32], while also improving model performance in case of the latter. The fundamental\\nconstraint of sequential computation, however, remains.\\nAttention mechanisms have become an integral part of compelling sequence modeling and transduc-\\ntion models in various tasks, allowing modeling of dependencies without regard to their distance in\\nthe input or output sequences [2, 19]. In all but a few cases [27], however, such attention mechanisms\\nare used in conjunction with a recurrent network.\\nIn this work we propose the Transformer, a model architecture eschewing recurrence and instead\\nrelying entirely on an attention mechanism to draw global dependencies between input and output.\\nThe Transformer allows for significantly more parallelization and can reach a new state of the art in\\ntranslation quality after being trained for as little as twelve hours on eight P100 GPUs')"
      ]
     },
     "execution_count": 11,
     "metadata": {},
     "output_type": "execute_result"
    }
   ],
   "source": [
    "splitted_docs[0]"
   ]
  },
  {
   "cell_type": "code",
   "execution_count": 34,
   "id": "87f6648f",
   "metadata": {},
   "outputs": [
    {
     "data": {
      "text/plain": [
       "4813"
      ]
     },
     "execution_count": 34,
     "metadata": {},
     "output_type": "execute_result"
    }
   ],
   "source": [
    "len(splitted_docs[4].page_content)"
   ]
  },
  {
   "cell_type": "code",
   "execution_count": 9,
   "id": "c3eda81f",
   "metadata": {},
   "outputs": [
    {
     "data": {
      "text/plain": [
       "9"
      ]
     },
     "execution_count": 9,
     "metadata": {},
     "output_type": "execute_result"
    }
   ],
   "source": [
    "len(splitted_docs)"
   ]
  },
  {
   "cell_type": "code",
   "execution_count": 1,
   "id": "7cccd2c5",
   "metadata": {},
   "outputs": [],
   "source": [
    "import langgraph_studio_run as graph_ref"
   ]
  },
  {
   "cell_type": "code",
   "execution_count": 2,
   "id": "7711e5ac",
   "metadata": {},
   "outputs": [],
   "source": [
    "main_graph = graph_ref.main_graph# MainGraph(model_name='llama3.2:3b')\n",
    "nodes = main_graph.nodes\n",
    "nodes.debug = True"
   ]
  },
  {
   "cell_type": "code",
   "execution_count": 3,
   "id": "ecb1b644",
   "metadata": {},
   "outputs": [
    {
     "data": {
      "image/png": "[encoded data removed]",
      "text/plain": [
       "<langgraph.graph.state.CompiledStateGraph object at 0x000001FD87B261D0>"
      ]
     },
     "execution_count": 3,
     "metadata": {},
     "output_type": "execute_result"
    }
   ],
   "source": [
    "main_graph.graph"
   ]
  },
  {
   "cell_type": "code",
   "execution_count": null,
   "id": "6021b124",
   "metadata": {},
   "outputs": [],
   "source": [
    "state_ = graph_ref.State.get_initial_state(article_search='1706.03762')\n",
    "state_"
   ]
  },
  {
   "cell_type": "code",
   "execution_count": null,
   "id": "23e39361",
   "metadata": {},
   "outputs": [],
   "source": []
  },
  {
   "cell_type": "code",
   "execution_count": 7,
   "id": "bf4f68f5",
   "metadata": {},
   "outputs": [
    {
     "name": "stdout",
     "output_type": "stream",
     "text": [
      "\u001b[1m\u001b[36m============ get_article_node ============\u001b[0m\u001b[0m\n",
      "\u001b[1m\u001b[34m===== INPUT =====\u001b[0m\u001b[0m\n",
      "1706.03762\n",
      "\u001b[1m\u001b[34m===== OUTPUT =====\u001b[0m\u001b[0m\n",
      "9 chunks Title: Attention Is All You Need\n"
     ]
    }
   ],
   "source": [
    "state_['article'] = nodes.get_article_node(state_)['article']"
   ]
  },
  {
   "cell_type": "code",
   "execution_count": 8,
   "id": "2ce60b4d",
   "metadata": {},
   "outputs": [
    {
     "name": "stdout",
     "output_type": "stream",
     "text": [
      "\u001b[1m\u001b[36m============ explain_condition ============\u001b[0m\u001b[0m\n",
      "\u001b[1m\u001b[34m===== OUTPUT =====\u001b[0m\u001b[0m\n",
      "explain_chunk\n"
     ]
    },
    {
     "data": {
      "text/plain": [
       "'explain_chunk'"
      ]
     },
     "execution_count": 8,
     "metadata": {},
     "output_type": "execute_result"
    }
   ],
   "source": [
    "nodes.explain_condition(state_)"
   ]
  },
  {
   "cell_type": "code",
   "execution_count": 9,
   "id": "522f9642",
   "metadata": {},
   "outputs": [
    {
     "name": "stdout",
     "output_type": "stream",
     "text": [
      "\u001b[1m\u001b[32m============ explainer_node : iteration 1 ============\u001b[0m\u001b[0m\n",
      "\u001b[1m\u001b[34m===== INPUT =====\u001b[0m\u001b[0m\n",
      "================================\u001b[1m System Message \u001b[0m================================\n",
      "\n",
      "You are an article explainer. You will receive an article chunk and the previous explanation you provided.\n",
      "You must provide an explanation that combines the context of the current chunk and the previous explanation until the entire article is explained.\n",
      "The explanation must be in simple words, short and easy to understand.\n",
      "==================================\u001b[1m Ai Message \u001b[0m==================================\n",
      "================================\u001b[1m Human Message \u001b[0m=================================\n",
      "\n",
      "Chunk 1 of 9:\n",
      "Provided proper attribution is provided, Google hereby grants permission to\n",
      "reproduce the tables and figures in this paper solely for use in journalistic or\n",
      "scholarly works.\n",
      "Attention Is All You Need\n",
      "Ashish Vaswani∗\n",
      "Google Brain\n",
      "avaswani@google.com\n",
      "Noam Shazeer∗\n",
      "Google Brain\n",
      "noam@google.com\n",
      "Niki Parmar∗\n",
      "Google Research\n",
      "nikip@google.com\n",
      "Jakob Uszkoreit∗\n",
      "Google Research\n",
      "usz@google.com\n",
      "Llion Jones∗\n",
      "Google Research\n",
      "llion@google.com\n",
      "Aidan N. Gomez∗†\n",
      "University of Toronto\n",
      "aidan@cs.toronto.edu\n",
      "Łukasz Kaiser∗\n",
      "Google Brain\n",
      "lukaszkaiser@google.com\n",
      "Illia Polosukhin∗‡\n",
      "illia.polosukhin@gmail.com\n",
      "Abstract\n",
      "The dominant sequence transduction models are based on complex recurrent or\n",
      "convolutional neural networks that include an encoder and a decoder. The best\n",
      "performing models also connect the encoder and decoder through an attention\n",
      "mechanism. We propose a new simple network architecture, the Transformer,\n",
      "based solely on attention mechanisms, dispensing with recurrence and convolutions\n",
      "entirely. Experiments on two machine translation tasks show these models to\n",
      "be superior in quality while being more parallelizable and requiring significantly\n",
      "less time to train. Our model achieves 28.4 BLEU on the WMT 2014 English-\n",
      "to-German translation task, improving over the existing best results, including\n",
      "ensembles, by over 2 BLEU. On the WMT 2014 English-to-French translation task,\n",
      "our model establishes a new single-model state-of-the-art BLEU score of 41.8 after\n",
      "training for 3.5 days on eight GPUs, a small fraction of the training costs of the\n",
      "best models from the literature. We show that the Transformer generalizes well to\n",
      "other tasks by applying it successfully to English constituency parsing both with\n",
      "large and limited training data.\n",
      "∗Equal contribution. Listing order is random. Jakob proposed replacing RNNs with self-attention and started\n",
      "the effort to evaluate this idea. Ashish, with Illia, designed and implemented the first Transformer models and\n",
      "has been crucially involved in every aspect of this work. Noam proposed scaled dot-product attention, multi-head\n",
      "attention and the parameter-free position representation and became the other person involved in nearly every\n",
      "detail. Niki designed, implemented, tuned and evaluated countless model variants in our original codebase and\n",
      "tensor2tensor. Llion also experimented with novel model variants, was responsible for our initial codebase, and\n",
      "efficient inference and visualizations. Lukasz and Aidan spent countless long days designing various parts of and\n",
      "implementing tensor2tensor, replacing our earlier codebase, greatly improving results and massively accelerating\n",
      "our research.\n",
      "†Work performed while at Google Brain.\n",
      "‡Work performed while at Google Research.\n",
      "31st Conference on Neural Information Processing Systems (NIPS 2017), Long Beach, CA, USA.\n",
      "arXiv:1706.03762v7  [cs.CL]  2 Aug 2023\n",
      "1\n",
      "Introduction\n",
      "Recurrent neural networks, long short-term memory [13] and gated recurrent [7] neural networks\n",
      "in particular, have been firmly established as state of the art approaches in sequence modeling and\n",
      "transduction problems such as language modeling and machine translation [35, 2, 5]. Numerous\n",
      "efforts have since continued to push the boundaries of recurrent language models and encoder-decoder\n",
      "architectures [38, 24, 15].\n",
      "Recurrent models typically factor computation along the symbol positions of the input and output\n",
      "sequences. Aligning the positions to steps in computation time, they generate a sequence of hidden\n",
      "states ht, as a function of the previous hidden state ht−1 and the input for position t. This inherently\n",
      "sequential nature precludes parallelization within training examples, which becomes critical at longer\n",
      "sequence lengths, as memory constraints limit batching across examples. Recent work has achieved\n",
      "significant improvements in computational efficiency through factorization tricks [21] and conditional\n",
      "computation [32], while also improving model performance in case of the latter. The fundamental\n",
      "constraint of sequential computation, however, remains.\n",
      "Attention mechanisms have become an integral part of compelling sequence modeling and transduc-\n",
      "tion models in various tasks, allowing modeling of dependencies without regard to their distance in\n",
      "the input or output sequences [2, 19]. In all but a few cases [27], however, such attention mechanisms\n",
      "are used in conjunction with a recurrent network.\n",
      "In this work we propose the Transformer, a model architecture eschewing recurrence and instead\n",
      "relying entirely on an attention mechanism to draw global dependencies between input and output.\n",
      "The Transformer allows for significantly more parallelization and can reach a new state of the art in\n",
      "translation quality after being trained for as little as twelve hours on eight P100 GPUs\n",
      "\u001b[1m\u001b[34m===== OUTPUT =====\u001b[0m\u001b[0m\n",
      "Here's a combined explanation of the current chunk and the previous one:\n",
      "\n",
      "The article discusses a new model architecture called the Transformer, which is designed to perform sequence modeling and transduction tasks. The authors propose this new model based solely on attention mechanisms, dispensing with recurrence and convolutions entirely.\n",
      "\n",
      "In simple terms, the Transformer model is an improvement over existing models that use recurrent neural networks (RNNs) or convolutional neural networks. These traditional models have limitations, such as requiring parallelization within training examples and being computationally expensive to train.\n",
      "\n",
      "The authors highlight the importance of attention mechanisms in sequence modeling and transduction tasks. Attention allows a model to focus on specific parts of the input data that are relevant for making predictions. However, most existing models use attention in conjunction with RNNs or convolutions.\n",
      "\n",
      "In contrast, the Transformer model relies entirely on attention mechanisms to draw global dependencies between input and output. This approach enables the model to be more parallelizable and can lead to significant improvements in translation quality.\n",
      "\n",
      "The authors report impressive results for their proposed model, achieving state-of-the-art performance on two machine translation tasks: English-to-German and English-to-French. They also demonstrate that the Transformer generalizes well to other tasks, such as English constituency parsing.\n",
      "\n",
      "Overall, the Transformer model represents a significant departure from traditional sequence modeling architectures and has the potential to revolutionize the field of natural language processing.\n"
     ]
    }
   ],
   "source": [
    "res=nodes.explainer_node(state_)\n",
    "state_['current_explanation'] = res['current_explanation']\n",
    "state_['current_doc'] = res['current_doc']"
   ]
  },
  {
   "cell_type": "code",
   "execution_count": 10,
   "id": "423d0644",
   "metadata": {},
   "outputs": [
    {
     "name": "stdout",
     "output_type": "stream",
     "text": [
      "Here's a combined explanation of the current chunk and the previous one:\n",
      "\n",
      "The article discusses a new model architecture called the Transformer, which is designed to perform sequence modeling and transduction tasks. The authors propose this new model based solely on attention mechanisms, dispensing with recurrence and convolutions entirely.\n",
      "\n",
      "In simple terms, the Transformer model is an improvement over existing models that use recurrent neural networks (RNNs) or convolutional neural networks. These traditional models have limitations, such as requiring parallelization within training examples and being computationally expensive to train.\n",
      "\n",
      "The authors highlight the importance of attention mechanisms in sequence modeling and transduction tasks. Attention allows a model to focus on specific parts of the input data that are relevant for making predictions. However, most existing models use attention in conjunction with RNNs or convolutions.\n",
      "\n",
      "In contrast, the Transformer model relies entirely on attention mechanisms to draw global dependencies between input and output. This approach enables the model to be more parallelizable and can lead to significant improvements in translation quality.\n",
      "\n",
      "The authors report impressive results for their proposed model, achieving state-of-the-art performance on two machine translation tasks: English-to-German and English-to-French. They also demonstrate that the Transformer generalizes well to other tasks, such as English constituency parsing.\n",
      "\n",
      "Overall, the Transformer model represents a significant departure from traditional sequence modeling architectures and has the potential to revolutionize the field of natural language processing.\n"
     ]
    }
   ],
   "source": [
    "print(state_['current_explanation'])"
   ]
  },
  {
   "cell_type": "code",
   "execution_count": 11,
   "id": "54b26e66",
   "metadata": {},
   "outputs": [
    {
     "data": {
      "text/plain": [
       "1"
      ]
     },
     "execution_count": 11,
     "metadata": {},
     "output_type": "execute_result"
    }
   ],
   "source": [
    "state_['current_doc']"
   ]
  },
  {
   "cell_type": "code",
   "execution_count": 12,
   "id": "a04d0500",
   "metadata": {},
   "outputs": [
    {
     "name": "stdout",
     "output_type": "stream",
     "text": [
      "\u001b[1m\u001b[32m============ explainer_node : iteration 2 ============\u001b[0m\u001b[0m\n",
      "\u001b[1m\u001b[34m===== INPUT =====\u001b[0m\u001b[0m\n",
      "================================\u001b[1m System Message \u001b[0m================================\n",
      "\n",
      "You are an article explainer. You will receive an article chunk and the previous explanation you provided.\n",
      "You must provide an explanation that combines the context of the current chunk and the previous explanation until the entire article is explained.\n",
      "The explanation must be in simple words, short and easy to understand.\n",
      "==================================\u001b[1m Ai Message \u001b[0m==================================\n",
      "\n",
      "Here's a combined explanation of the current chunk and the previous one:\n",
      "\n",
      "The article discusses a new model architecture called the Transformer, which is designed to perform sequence modeling and transduction tasks. The authors propose this new model based solely on attention mechanisms, dispensing with recurrence and convolutions entirely.\n",
      "\n",
      "In simple terms, the Transformer model is an improvement over existing models that use recurrent neural networks (RNNs) or convolutional neural networks. These traditional models have limitations, such as requiring parallelization within training examples and being computationally expensive to train.\n",
      "\n",
      "The authors highlight the importance of attention mechanisms in sequence modeling and transduction tasks. Attention allows a model to focus on specific parts of the input data that are relevant for making predictions. However, most existing models use attention in conjunction with RNNs or convolutions.\n",
      "\n",
      "In contrast, the Transformer model relies entirely on attention mechanisms to draw global dependencies between input and output. This approach enables the model to be more parallelizable and can lead to significant improvements in translation quality.\n",
      "\n",
      "The authors report impressive results for their proposed model, achieving state-of-the-art performance on two machine translation tasks: English-to-German and English-to-French. They also demonstrate that the Transformer generalizes well to other tasks, such as English constituency parsing.\n",
      "\n",
      "Overall, the Transformer model represents a significant departure from traditional sequence modeling architectures and has the potential to revolutionize the field of natural language processing.\n",
      "================================\u001b[1m Human Message \u001b[0m=================================\n",
      "\n",
      "Chunk 2 of 9:\n",
      ".\n",
      "The Transformer allows for significantly more parallelization and can reach a new state of the art in\n",
      "translation quality after being trained for as little as twelve hours on eight P100 GPUs.\n",
      "2\n",
      "Background\n",
      "The goal of reducing sequential computation also forms the foundation of the Extended Neural GPU\n",
      "[16], ByteNet [18] and ConvS2S [9], all of which use convolutional neural networks as basic building\n",
      "block, computing hidden representations in parallel for all input and output positions. In these models,\n",
      "the number of operations required to relate signals from two arbitrary input or output positions grows\n",
      "in the distance between positions, linearly for ConvS2S and logarithmically for ByteNet. This makes\n",
      "it more difficult to learn dependencies between distant positions [12]. In the Transformer this is\n",
      "reduced to a constant number of operations, albeit at the cost of reduced effective resolution due\n",
      "to averaging attention-weighted positions, an effect we counteract with Multi-Head Attention as\n",
      "described in section 3.2.\n",
      "Self-attention, sometimes called intra-attention is an attention mechanism relating different positions\n",
      "of a single sequence in order to compute a representation of the sequence. Self-attention has been\n",
      "used successfully in a variety of tasks including reading comprehension, abstractive summarization,\n",
      "textual entailment and learning task-independent sentence representations [4, 27, 28, 22].\n",
      "End-to-end memory networks are based on a recurrent attention mechanism instead of sequence-\n",
      "aligned recurrence and have been shown to perform well on simple-language question answering and\n",
      "language modeling tasks [34].\n",
      "To the best of our knowledge, however, the Transformer is the first transduction model relying\n",
      "entirely on self-attention to compute representations of its input and output without using sequence-\n",
      "aligned RNNs or convolution. In the following sections, we will describe the Transformer, motivate\n",
      "self-attention and discuss its advantages over models such as [17, 18] and [9].\n",
      "3\n",
      "Model Architecture\n",
      "Most competitive neural sequence transduction models have an encoder-decoder structure [5, 2, 35].\n",
      "Here, the encoder maps an input sequence of symbol representations (x1, ..., xn) to a sequence\n",
      "of continuous representations z = (z1, ..., zn). Given z, the decoder then generates an output\n",
      "sequence (y1, ..., ym) of symbols one element at a time. At each step the model is auto-regressive\n",
      "[10], consuming the previously generated symbols as additional input when generating the next.\n",
      "2\n",
      "Figure 1: The Transformer - model architecture.\n",
      "The Transformer follows this overall architecture using stacked self-attention and point-wise, fully\n",
      "connected layers for both the encoder and decoder, shown in the left and right halves of Figure 1,\n",
      "respectively.\n",
      "3.1\n",
      "Encoder and Decoder Stacks\n",
      "Encoder:\n",
      "The encoder is composed of a stack of N = 6 identical layers. Each layer has two\n",
      "sub-layers. The first is a multi-head self-attention mechanism, and the second is a simple, position-\n",
      "wise fully connected feed-forward network. We employ a residual connection [11] around each of\n",
      "the two sub-layers, followed by layer normalization [1]. That is, the output of each sub-layer is\n",
      "LayerNorm(x + Sublayer(x)), where Sublayer(x) is the function implemented by the sub-layer\n",
      "itself. To facilitate these residual connections, all sub-layers in the model, as well as the embedding\n",
      "layers, produce outputs of dimension dmodel = 512.\n",
      "Decoder:\n",
      "The decoder is also composed of a stack of N = 6 identical layers. In addition to the two\n",
      "sub-layers in each encoder layer, the decoder inserts a third sub-layer, which performs multi-head\n",
      "attention over the output of the encoder stack. Similar to the encoder, we employ residual connections\n",
      "around each of the sub-layers, followed by layer normalization. We also modify the self-attention\n",
      "sub-layer in the decoder stack to prevent positions from attending to subsequent positions. This\n",
      "masking, combined with fact that the output embeddings are offset by one position, ensures that the\n",
      "predictions for position i can depend only on the known outputs at positions less than i.\n",
      "3.2\n",
      "Attention\n",
      "An attention function can be described as mapping a query and a set of key-value pairs to an output,\n",
      "where the query, keys, values, and output are all vectors. The output is computed as a weighted sum\n",
      "3\n",
      "Scaled Dot-Product Attention\n",
      "Multi-Head Attention\n",
      "Figure 2: (left) Scaled Dot-Product Attention. (right) Multi-Head Attention consists of several\n",
      "attention layers running in parallel.\n",
      "of the values, where the weight assigned to each value is computed by a compatibility function of the\n",
      "query with the corresponding key\n",
      "\u001b[1m\u001b[34m===== OUTPUT =====\u001b[0m\u001b[0m\n",
      "Here's a combined explanation of the current chunk and the previous one:\n",
      "\n",
      "The article discusses a new model architecture called the Transformer, which is designed to perform sequence modeling and transduction tasks. The authors propose this new model based solely on attention mechanisms, dispensing with recurrence and convolutions entirely.\n",
      "\n",
      "In simple terms, the Transformer model is an improvement over existing models that use recurrent neural networks (RNNs) or convolutional neural networks. These traditional models have limitations, such as requiring parallelization within training examples and being computationally expensive to train.\n",
      "\n",
      "The authors highlight the importance of attention mechanisms in sequence modeling and transduction tasks. Attention allows a model to focus on specific parts of the input data that are relevant for making predictions. However, most existing models use attention in conjunction with RNNs or convolutions.\n",
      "\n",
      "In contrast, the Transformer model relies entirely on attention mechanisms to draw global dependencies between input and output. This approach enables the model to be more parallelizable and can lead to significant improvements in translation quality.\n",
      "\n",
      "The authors also explain that traditional sequence modeling architectures, such as those using convolutional neural networks, have limitations due to the distance between positions in the input sequence. As a result, it becomes increasingly difficult to learn dependencies between distant positions.\n",
      "\n",
      "To address this issue, the Transformer model uses self-attention mechanisms, which allow it to focus on specific parts of the input data regardless of their position. This is achieved by using scaled dot-product attention and multi-head attention.\n",
      "\n",
      "Multi-head attention consists of several attention layers running in parallel, each with a different set of weights and biases. This allows the model to capture multiple aspects of the input data simultaneously.\n",
      "\n",
      "The Transformer model also uses point-wise, fully connected layers for both the encoder and decoder, as well as residual connections and layer normalization to facilitate these connections.\n",
      "\n",
      "Here's a key difference between the Transformer model and traditional sequence modeling architectures: the Transformer does not use recurrence or convolutional neural networks. Instead, it relies solely on attention mechanisms to compute representations of its input and output.\n",
      "\n",
      "This approach enables the model to be more parallelizable and can lead to significant improvements in translation quality. The authors report impressive results for their proposed model, achieving state-of-the-art performance on two machine translation tasks: English-to-German and English-to-French.\n",
      "\n",
      "Overall, the Transformer model represents a significant departure from traditional sequence modeling architectures and has the potential to revolutionize the field of natural language processing.\n"
     ]
    }
   ],
   "source": [
    "res=nodes.explainer_node(state_)\n",
    "state_['current_explanation'] = res['current_explanation']\n",
    "state_['current_doc'] = res['current_doc']"
   ]
  },
  {
   "cell_type": "code",
   "execution_count": 13,
   "id": "a2ea833e",
   "metadata": {},
   "outputs": [
    {
     "name": "stdout",
     "output_type": "stream",
     "text": [
      "Here's a combined explanation of the current chunk and the previous one:\n",
      "\n",
      "The article discusses a new model architecture called the Transformer, which is designed to perform sequence modeling and transduction tasks. The authors propose this new model based solely on attention mechanisms, dispensing with recurrence and convolutions entirely.\n",
      "\n",
      "In simple terms, the Transformer model is an improvement over existing models that use recurrent neural networks (RNNs) or convolutional neural networks. These traditional models have limitations, such as requiring parallelization within training examples and being computationally expensive to train.\n",
      "\n",
      "The authors highlight the importance of attention mechanisms in sequence modeling and transduction tasks. Attention allows a model to focus on specific parts of the input data that are relevant for making predictions. However, most existing models use attention in conjunction with RNNs or convolutions.\n",
      "\n",
      "In contrast, the Transformer model relies entirely on attention mechanisms to draw global dependencies between input and output. This approach enables the model to be more parallelizable and can lead to significant improvements in translation quality.\n",
      "\n",
      "The authors also explain that traditional sequence modeling architectures, such as those using convolutional neural networks, have limitations due to the distance between positions in the input sequence. As a result, it becomes increasingly difficult to learn dependencies between distant positions.\n",
      "\n",
      "To address this issue, the Transformer model uses self-attention mechanisms, which allow it to focus on specific parts of the input data regardless of their position. This is achieved by using scaled dot-product attention and multi-head attention.\n",
      "\n",
      "Multi-head attention consists of several attention layers running in parallel, each with a different set of weights and biases. This allows the model to capture multiple aspects of the input data simultaneously.\n",
      "\n",
      "The Transformer model also uses point-wise, fully connected layers for both the encoder and decoder, as well as residual connections and layer normalization to facilitate these connections.\n",
      "\n",
      "Here's a key difference between the Transformer model and traditional sequence modeling architectures: the Transformer does not use recurrence or convolutional neural networks. Instead, it relies solely on attention mechanisms to compute representations of its input and output.\n",
      "\n",
      "This approach enables the model to be more parallelizable and can lead to significant improvements in translation quality. The authors report impressive results for their proposed model, achieving state-of-the-art performance on two machine translation tasks: English-to-German and English-to-French.\n",
      "\n",
      "Overall, the Transformer model represents a significant departure from traditional sequence modeling architectures and has the potential to revolutionize the field of natural language processing.\n"
     ]
    }
   ],
   "source": [
    "print(state_['current_explanation'])"
   ]
  },
  {
   "cell_type": "code",
   "execution_count": 14,
   "id": "4fdf1e71",
   "metadata": {},
   "outputs": [
    {
     "data": {
      "text/plain": [
       "2"
      ]
     },
     "execution_count": 14,
     "metadata": {},
     "output_type": "execute_result"
    }
   ],
   "source": [
    "state_['current_doc']"
   ]
  },
  {
   "cell_type": "code",
   "execution_count": null,
   "id": "c3699996",
   "metadata": {},
   "outputs": [],
   "source": []
  }
 ],
 "metadata": {
  "kernelspec": {
   "display_name": "ml_web_env",
   "language": "python",
   "name": "python3"
  },
  "language_info": {
   "codemirror_mode": {
    "name": "ipython",
    "version": 3
   },
   "file_extension": ".py",
   "mimetype": "text/x-python",
   "name": "python",
   "nbconvert_exporter": "python",
   "pygments_lexer": "ipython3",
   "version": "3.11.13"
  }
 },
 "nbformat": 4,
 "nbformat_minor": 5
}
